{
 "cells": [
  {
   "cell_type": "code",
   "execution_count": null,
   "id": "02bf89b3",
   "metadata": {},
   "outputs": [],
   "source": [
    "%%capture\n",
    "!pip install contextualized-topic-models\n",
    "!pip install sklearn"
   ]
  },
  {
   "cell_type": "code",
   "execution_count": null,
   "id": "0075aae2",
   "metadata": {},
   "outputs": [],
   "source": [
    "from contextualized_topic_models.models.kitty_classifier import Kitty\n",
    "from contextualized_topic_models.utils.data_preparation import TopicModelDataPreparation\n",
    "from contextualized_topic_models.utils.preprocessing import WhiteSpacePreprocessing\n",
    "import nltk\n",
    "import torch\n",
    "import random\n",
    "import numpy as np\n",
    "nltk.download(\"stopwords\")"
   ]
  },
  {
   "cell_type": "code",
   "execution_count": null,
   "id": "74a0aaf0",
   "metadata": {},
   "outputs": [],
   "source": [
    "torch.manual_seed(42)\n",
    "torch.cuda.manual_seed(42)\n",
    "np.random.seed(42)\n",
    "random.seed(42)\n",
    "torch.backends.cudnn.enabled = False\n",
    "torch.backends.cudnn.deterministic = True"
   ]
  },
  {
   "cell_type": "code",
   "execution_count": null,
   "id": "bbe2ba93",
   "metadata": {},
   "outputs": [],
   "source": [
    "%%capture\n",
    "!wget https://raw.githubusercontent.com/gereltuya/ai-for-climate-action/main/data/paper0.txt"
   ]
  },
  {
   "cell_type": "code",
   "execution_count": null,
   "id": "f85b5d59",
   "metadata": {},
   "outputs": [],
   "source": [
    "training = list(map(lambda x : x.strip(), open(\"paper0.txt\").readlines()[0:3000]))\n",
    "!head paper0.txt"
   ]
  },
  {
   "cell_type": "code",
   "execution_count": null,
   "id": "77a860ac",
   "metadata": {},
   "outputs": [],
   "source": [
    "from nltk.corpus import stopwords as stop_words\n",
    "\n",
    "kt = Kitty()\n",
    "kt.train(\n",
    "  training, topics=5, embedding_model=\"paraphrase-distilroberta-base-v2\", \n",
    "  stopwords_list=stop_words.words(\"english\"))"
   ]
  }
 ],
 "metadata": {
  "kernelspec": {
   "display_name": "Python 3 (ipykernel)",
   "language": "python",
   "name": "python3"
  },
  "language_info": {
   "codemirror_mode": {
    "name": "ipython",
    "version": 3
   },
   "file_extension": ".py",
   "mimetype": "text/x-python",
   "name": "python",
   "nbconvert_exporter": "python",
   "pygments_lexer": "ipython3",
   "version": "3.10.10"
  }
 },
 "nbformat": 4,
 "nbformat_minor": 5
}
